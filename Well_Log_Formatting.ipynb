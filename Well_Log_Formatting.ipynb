{
 "cells": [
  {
   "cell_type": "code",
   "execution_count": 2,
   "metadata": {},
   "outputs": [
    {
     "name": "stdout",
     "output_type": "stream",
     "text": [
      "Collecting lasio\n",
      "  Downloading lasio-0.29-py2.py3-none-any.whl (38 kB)\n",
      "Requirement already satisfied: numpy in c:\\users\\tmo0005\\anaconda3\\lib\\site-packages (from lasio) (1.18.5)\n",
      "Installing collected packages: lasio\n",
      "Successfully installed lasio-0.29\n"
     ]
    }
   ],
   "source": [
    "!pip install lasio"
   ]
  },
  {
   "cell_type": "code",
   "execution_count": 6,
   "metadata": {},
   "outputs": [],
   "source": [
    "import pandas as pd   #panda package\n",
    "import lasio          #package to manipulate LAS file\n",
    "import os"
   ]
  },
  {
   "cell_type": "code",
   "execution_count": 50,
   "metadata": {},
   "outputs": [],
   "source": [
    "def las2csv(file_name, file_directory):\n",
    "    '''\n",
    "    Parameters\n",
    "    ----------\n",
    "    file_name: str\n",
    "            The name of the las file to convert to csv. Add the extension i.e .las\n",
    "    file_directory: str\n",
    "            The path to the folder where the data is\n",
    "            \n",
    "    Returns\n",
    "    --------\n",
    "    It saves a .csv copy of the file in a new file directory\n",
    "    '''\n",
    "    file_path = os.path.join(file_directory,file_name)\n",
    "\n",
    "    las = lasio.read(file_path)\n",
    "    \n",
    "    data = las.df()\n",
    "    new_file_name = \"{}.csv\".format(os.path.splitext(file_name)[0])\n",
    "    \n",
    "    ###creates a folder to save the csv files\n",
    "    ###checks if a folder called Well_Data_CSV already exists to avoid error\n",
    "    new_file_directory = os.path.join(os.path.split(file_directory)[0], \"Well_Data_CSV\")\n",
    "    if os.path.exists(new_file_directory):\n",
    "        pass\n",
    "    else:\n",
    "        os.mkdir(os.path.join(os.path.split(new_file_directory)[0],\"Well_Data_CSV\"))\n",
    "    \n",
    "    data.to_csv(os.path.join(new_file_directory,new_file_name))\n",
    "    print(\"The {} file has been converted to .csv; check  the folder called 'Well_Data_CSV' in the working directory\".format(file_name))\n",
    "    "
   ]
  },
  {
   "cell_type": "code",
   "execution_count": 51,
   "metadata": {},
   "outputs": [],
   "source": [
    "# Convert Boggess data\n",
    "file_directory = r\"C:\\Users\\tmo0005\\Desktop\\Thesis work\\Thesis work\\Boggess\"\n",
    "file_name1 = \"Boggess_PetroInterp.las\"\n",
    "file_name2 = \"Boggess_AnisoMechPro.las\" "
   ]
  },
  {
   "cell_type": "code",
   "execution_count": 52,
   "metadata": {},
   "outputs": [
    {
     "name": "stdout",
     "output_type": "stream",
     "text": [
      "The Boggess_PetroInterp.las file has been converted to .csv; check  the folder called 'Well_Data_CSV' in the working directory\n",
      "The Boggess_AnisoMechPro.las file has been converted to .csv; check  the folder called 'Well_Data_CSV' in the working directory\n"
     ]
    }
   ],
   "source": [
    "las2csv(file_name1, file_directory)\n",
    "las2csv(file_name2, file_directory)"
   ]
  },
  {
   "cell_type": "code",
   "execution_count": 60,
   "metadata": {},
   "outputs": [],
   "source": [
    "# Convert MIP3H data\n",
    "file_directory1 = r\"C:\\Users\\tmo0005\\Desktop\\Thesis work\\Thesis work\\MIP3H\\Geomechanical_Logs_3H_Vert\"\n",
    "file_name1 = \"MIP_3H_AnisoMechPro.las\"\n",
    "file_name3 = \"MIP_3H_IsoMechPro.las\"\n",
    "\n",
    "file_directory2 = r\"C:\\Users\\tmo0005\\Desktop\\Thesis work\\Thesis work\\MIP3H\\MIP_3H_pilot_log_data\\3H pilot logging runs\"\n",
    "file_name2 = \"MIP_3H_PetroInterp.las\" "
   ]
  },
  {
   "cell_type": "code",
   "execution_count": 54,
   "metadata": {},
   "outputs": [
    {
     "name": "stdout",
     "output_type": "stream",
     "text": [
      "The MIP_3H_AnisoMechPro.las file has been converted to .csv; check  the folder called 'Well_Data_CSV' in the working directory\n",
      "The MIP_3H_PetroInterp.las file has been converted to .csv; check  the folder called 'Well_Data_CSV' in the working directory\n"
     ]
    }
   ],
   "source": [
    "las2csv(file_name1, file_directory1)\n",
    "las2csv(file_name2, file_directory2)"
   ]
  },
  {
   "cell_type": "code",
   "execution_count": 61,
   "metadata": {},
   "outputs": [
    {
     "name": "stdout",
     "output_type": "stream",
     "text": [
      "The MIP_3H_IsoMechPro.las file has been converted to .csv; check  the folder called 'Well_Data_CSV' in the working directory\n"
     ]
    }
   ],
   "source": [
    "las2csv(file_name3, file_directory1)"
   ]
  },
  {
   "cell_type": "code",
   "execution_count": 56,
   "metadata": {},
   "outputs": [],
   "source": [
    "# Convert Whipkey data\n",
    "file_directory = r\"C:\\Users\\tmo0005\\Desktop\\Thesis work\\Thesis work\\Whipkey\"\n",
    "file_name1 = \"Whipkey_Main.las\"\n",
    "file_name2 = \"Whipkey_Sonic.las\" "
   ]
  },
  {
   "cell_type": "code",
   "execution_count": 57,
   "metadata": {},
   "outputs": [
    {
     "name": "stdout",
     "output_type": "stream",
     "text": [
      "The Whipkey_Main.las file has been converted to .csv; check  the folder called 'Well_Data_CSV' in the working directory\n",
      "The Whipkey_Sonic.las file has been converted to .csv; check  the folder called 'Well_Data_CSV' in the working directory\n"
     ]
    }
   ],
   "source": [
    "las2csv(file_name1, file_directory)\n",
    "las2csv(file_name2, file_directory)"
   ]
  },
  {
   "cell_type": "code",
   "execution_count": 58,
   "metadata": {},
   "outputs": [],
   "source": [
    "# Convert Poseidon data\n",
    "file_directory1 = r\"C:\\Users\\tmo0005\\Desktop\\Thesis work\\Thesis work\\Poseidon\\Poseidon Well\\PILOT LOG\\SLB\\Sonic Scanner\"\n",
    "file_name1 = \"Poseidon_AnisoMechPro.las\" \n",
    "\n",
    "file_directory2 = r\"C:\\Users\\tmo0005\\Desktop\\Thesis work\\Thesis work\\Poseidon\\Poseidon Well\\PILOT LOG\\SLB\\CMR-Lithoscanner\"\n",
    "file_name2 = \"Poseidon_PetroInterp.las\""
   ]
  },
  {
   "cell_type": "code",
   "execution_count": 59,
   "metadata": {},
   "outputs": [
    {
     "name": "stdout",
     "output_type": "stream",
     "text": [
      "The Poseidon_AnisoMechPro.las file has been converted to .csv; check  the folder called 'Well_Data_CSV' in the working directory\n",
      "The Poseidon_PetroInterp.las file has been converted to .csv; check  the folder called 'Well_Data_CSV' in the working directory\n"
     ]
    }
   ],
   "source": [
    "las2csv(file_name1, file_directory1)\n",
    "las2csv(file_name2, file_directory2)"
   ]
  },
  {
   "cell_type": "code",
   "execution_count": null,
   "metadata": {},
   "outputs": [],
   "source": []
  }
 ],
 "metadata": {
  "kernelspec": {
   "display_name": "Python 3",
   "language": "python",
   "name": "python3"
  },
  "language_info": {
   "codemirror_mode": {
    "name": "ipython",
    "version": 3
   },
   "file_extension": ".py",
   "mimetype": "text/x-python",
   "name": "python",
   "nbconvert_exporter": "python",
   "pygments_lexer": "ipython3",
   "version": "3.8.3"
  }
 },
 "nbformat": 4,
 "nbformat_minor": 4
}
